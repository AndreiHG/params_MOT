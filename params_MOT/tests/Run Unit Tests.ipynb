{
 "cells": [
  {
   "cell_type": "markdown",
   "metadata": {},
   "source": [
    "## Run Unit Tests\n",
    "\n",
    "This notebook can be used to verify that the unit tests for the basic functions in params_MOT work. The 6 functions tested are from model_MOT.ipynb and model_MOTonly.ipynb: gaussian_1d, gaussian_2d, background, model, MOTmodel, detected. Before this can be run the package params_MOT must be installed from the command line using the command\n",
    "\n",
    "pip install .\n",
    "\n",
    "while being in the working directory which contains the setup.py file for the package (inside the folder params_MOT). After installing, simply run the cell below:"
   ]
  },
  {
   "cell_type": "code",
   "execution_count": 6,
   "metadata": {
    "collapsed": false
   },
   "outputs": [
    {
     "name": "stderr",
     "output_type": "stream",
     "text": [
      ".....\n",
      "----------------------------------------------------------------------\n",
      "Ran 5 tests in 0.004s\n",
      "\n",
      "OK\n"
     ]
    }
   ],
   "source": [
    "import params_MOT as pm\n",
    "from unittest import TestCase\n",
    "\n",
    "%run test_params_MOT.py"
   ]
  },
  {
   "cell_type": "markdown",
   "metadata": {},
   "source": [
    "Now that the package is installed, one can reproduce the contents of model_MOT.ipynb or model_MOTonly.ipynb without having to define explicit functions anymore."
   ]
  },
  {
   "cell_type": "code",
   "execution_count": 7,
   "metadata": {
    "collapsed": false
   },
   "outputs": [
    {
     "data": {
      "text/plain": [
       "array([[2]])"
      ]
     },
     "execution_count": 7,
     "metadata": {},
     "output_type": "execute_result"
    }
   ],
   "source": [
    "pm.background(1,1,1)\n"
   ]
  },
  {
   "cell_type": "code",
   "execution_count": null,
   "metadata": {
    "collapsed": true
   },
   "outputs": [],
   "source": []
  }
 ],
 "metadata": {
  "kernelspec": {
   "display_name": "Python 3",
   "language": "python",
   "name": "python3"
  },
  "language_info": {
   "codemirror_mode": {
    "name": "ipython",
    "version": 3
   },
   "file_extension": ".py",
   "mimetype": "text/x-python",
   "name": "python",
   "nbconvert_exporter": "python",
   "pygments_lexer": "ipython3",
   "version": "3.5.2"
  }
 },
 "nbformat": 4,
 "nbformat_minor": 0
}
