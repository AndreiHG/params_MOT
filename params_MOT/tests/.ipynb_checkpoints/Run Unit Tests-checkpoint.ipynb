{
 "cells": [
  {
   "cell_type": "markdown",
   "metadata": {},
   "source": [
    "## Run Unit Tests\n",
    "\n",
    "This notebook can be used to verify that the unit tests for the basic functions in params_MOT work. The four functions tested are from model_MOTonly.ipynb: gaussian_2d, background, MOTmodel, detected. Before this can be run the package params_MOT must be installed from the command line using the command\n",
    "\n",
    "pip install .\n",
    "\n",
    "while being in the working directory which contains the setup.py file for the package (inside the folder params_MOT). After installing, simply run the cell below:"
   ]
  },
  {
   "cell_type": "code",
   "execution_count": 11,
   "metadata": {
    "collapsed": false
   },
   "outputs": [
    {
     "name": "stderr",
     "output_type": "stream",
     "text": [
      "..E..\n",
      "======================================================================\n",
      "ERROR: test_gaussian1d (__main__.BasicFunctionsTestCase)\n",
      "----------------------------------------------------------------------\n",
      "Traceback (most recent call last):\n",
      "  File \"E:\\Users\\Daniel Ang\\Dropbox\\Documents\\GitHub\\params_MOT\\params_MOT\\tests\\test_params_MOT.py\", line 9, in test_gaussian1d\n",
      "    self.assertTrue=(pm.gaussian1d(1,1,1,1))\n",
      "AttributeError: module 'params_MOT' has no attribute 'gaussian1d'\n",
      "\n",
      "----------------------------------------------------------------------\n",
      "Ran 5 tests in 0.006s\n",
      "\n",
      "FAILED (errors=1)\n"
     ]
    },
    {
     "ename": "SystemExit",
     "evalue": "True",
     "output_type": "error",
     "traceback": [
      "An exception has occurred, use %tb to see the full traceback.\n",
      "\u001b[1;31mSystemExit\u001b[0m\u001b[1;31m:\u001b[0m True\n"
     ]
    }
   ],
   "source": [
    "import params_MOT as pm\n",
    "from unittest import TestCase\n",
    "\n",
    "%run test_params_MOT.py"
   ]
  },
  {
   "cell_type": "code",
   "execution_count": null,
   "metadata": {
    "collapsed": true
   },
   "outputs": [],
   "source": []
  }
 ],
 "metadata": {
  "kernelspec": {
   "display_name": "Python 3",
   "language": "python",
   "name": "python3"
  },
  "language_info": {
   "codemirror_mode": {
    "name": "ipython",
    "version": 3
   },
   "file_extension": ".py",
   "mimetype": "text/x-python",
   "name": "python",
   "nbconvert_exporter": "python",
   "pygments_lexer": "ipython3",
   "version": "3.5.2"
  }
 },
 "nbformat": 4,
 "nbformat_minor": 0
}
