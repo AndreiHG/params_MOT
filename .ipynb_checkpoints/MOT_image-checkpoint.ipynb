{
 "cells": [
  {
   "cell_type": "code",
   "execution_count": 3,
   "metadata": {
    "collapsed": true
   },
   "outputs": [],
   "source": [
    "import numpy as np\n",
    "import matplotlib.pyplot as plt\n",
    "import scipy.ndimage.filters as filters"
   ]
  },
  {
   "cell_type": "code",
   "execution_count": 5,
   "metadata": {
    "collapsed": true
   },
   "outputs": [],
   "source": [
    "def gaussian_2d(x, y, center_x, center_y, amplitude, sigma_x, sigma_y):\n",
    "    return amplitude * np.exp(-(x - center_x) ** 2 / (2 * sigma_x ** 2)) * np.exp(\n",
    "        -(y - center_y) ** 2 / (2 * sigma_y ** 2))\n",
    "\n",
    "def MOTmodel(x, y, center_x, center_y, amplitude, sigma_x, sigma_y):\n",
    "    return gaussian_2d(x, y, center_x, center_y, amplitude, sigma_x, sigma_y)\n",
    "\n",
    "class MOT_image:\n",
    "    '''\n",
    "    data: numpy 2D array containing the photon count for the (x,y) pixel\n",
    "    time: duration since MOT has been released from trap\n",
    "    '''\n",
    "    \n",
    "    def __init__(self, data, time):\n",
    "        self.data = data\n",
    "        self.time = time   \n",
    "        \n",
    "    def show(self, image_size = 50, gauss_filter = False):\n",
    "        \n",
    "        image_size = image_size\n",
    "        x=np.linspace(1, image_size, image_size)\n",
    "        y=np.linspace(1, image_size, image_size)\n",
    "        x,y=np.meshgrid(x, y)\n",
    "        image = MOTmodel(x, y, image_size/2, image_size/2, 400, image_size/7.5, image_size/9)\n",
    "        \n",
    "        if gauss_filter == False:\n",
    "            plt.figure(1)\n",
    "            plt.imshow(image,cmap=\"jet\", interpolation='none')\n",
    "            plt.colorbar()\n",
    "        else:\n",
    "            plt.figure(1)\n",
    "            plt.imshow(filters.gaussian_filter(image,1),cmap=\"jet\", interpolation='none' )\n",
    "            plt.colorbar()"
   ]
  },
  {
   "cell_type": "code",
   "execution_count": null,
   "metadata": {
    "collapsed": true
   },
   "outputs": [],
   "source": []
  }
 ],
 "metadata": {
  "anaconda-cloud": {},
  "kernelspec": {
   "display_name": "Python [conda root]",
   "language": "python",
   "name": "conda-root-py"
  },
  "language_info": {
   "codemirror_mode": {
    "name": "ipython",
    "version": 3
   },
   "file_extension": ".py",
   "mimetype": "text/x-python",
   "name": "python",
   "nbconvert_exporter": "python",
   "pygments_lexer": "ipython3",
   "version": "3.5.2"
  }
 },
 "nbformat": 4,
 "nbformat_minor": 0
}
