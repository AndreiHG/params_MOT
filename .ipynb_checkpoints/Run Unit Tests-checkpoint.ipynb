{
 "cells": [
  {
   "cell_type": "markdown",
   "metadata": {},
   "source": [
    "## Run Unit Tests\n",
    "\n",
    "This notebook can be used to verify that the unit tests for the basic functions in params_MOT work. The 6 functions tested are from model_MOT.ipynb and model_MOTonly.ipynb: gaussian_1d, gaussian_2d, background, model, MOTmodel, detected. Before this can be run the package params_MOT must be installed from the command line using the command\n",
    "\n",
    "pip install .\n",
    "\n",
    "while being in the working directory which contains the setup.py file for the package (inside the folder params_MOT). After installing, simply run the cell below:"
   ]
  },
  {
   "cell_type": "code",
   "execution_count": 13,
   "metadata": {
    "collapsed": false,
    "scrolled": true
   },
   "outputs": [
    {
     "name": "stderr",
     "output_type": "stream",
     "text": [
      ".....\n",
      "----------------------------------------------------------------------\n",
      "Ran 5 tests in 0.004s\n",
      "\n",
      "OK\n"
     ]
    }
   ],
   "source": [
    "import params_MOT as pm\n",
    "from unittest import TestCase\n",
    "import os\n",
    "\n",
    "os.chdir('./params_MOT/tests/') # Change working directory to that containing tests_\n",
    "%run test_params_MOT.py"
   ]
  }
 ],
 "metadata": {
  "kernelspec": {
   "display_name": "Python 3",
   "language": "python",
   "name": "python3"
  },
  "language_info": {
   "codemirror_mode": {
    "name": "ipython",
    "version": 3
   },
   "file_extension": ".py",
   "mimetype": "text/x-python",
   "name": "python",
   "nbconvert_exporter": "python",
   "pygments_lexer": "ipython3",
   "version": "3.5.2"
  }
 },
 "nbformat": 4,
 "nbformat_minor": 0
}
