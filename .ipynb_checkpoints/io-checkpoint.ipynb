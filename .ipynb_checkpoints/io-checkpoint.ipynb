{
 "cells": [
  {
   "cell_type": "code",
   "execution_count": 4,
   "metadata": {
    "collapsed": false
   },
   "outputs": [],
   "source": [
    "import os\n",
    "from params_MOT import MOT_image_2\n",
    "\n",
    "def get_data_file_path(filename, data_dir='model_data'):\n",
    "    # __file__ is the location of the source file currently in use (so\n",
    "    # in this case io.py). We can use it as base path to construct\n",
    "    # other paths from that should end up correct on other machines or\n",
    "    # when the package is installed\n",
    "    start = os.path.abspath(__file__)\n",
    "    start_dir = os.path.dirname(start)\n",
    "    # If you need to go up another directory (for example if you have\n",
    "    # this function in your tests directory and your data is in the\n",
    "    # package directory one level up) you can use\n",
    "    # up_dir = os.path.split(start_dir)[0]\n",
    "    data_dir = os.path.join(start_dir, data_dir)\n",
    "    return os.path.join(start_dir, data_dir, filename)\n",
    "\n",
    "def load_data(data_file):\n",
    "    return pd.read_csv(data_file, sep=' ')"
   ]
  },
  {
   "cell_type": "code",
   "execution_count": null,
   "metadata": {
    "collapsed": true
   },
   "outputs": [],
   "source": []
  }
 ],
 "metadata": {
  "anaconda-cloud": {},
  "kernelspec": {
   "display_name": "Python [conda root]",
   "language": "python",
   "name": "conda-root-py"
  },
  "language_info": {
   "codemirror_mode": {
    "name": "ipython",
    "version": 3
   },
   "file_extension": ".py",
   "mimetype": "text/x-python",
   "name": "python",
   "nbconvert_exporter": "python",
   "pygments_lexer": "ipython3",
   "version": "3.5.2"
  }
 },
 "nbformat": 4,
 "nbformat_minor": 2
}
