{
 "cells": [
  {
   "cell_type": "code",
   "execution_count": 1,
   "metadata": {
    "collapsed": true
   },
   "outputs": [],
   "source": [
    "%matplotlib inline \n",
    "\n",
    "import matplotlib\n",
    "import numpy as np\n",
    "import matplotlib.pyplot as plt\n",
    "\n",
    "import math\n",
    "\n",
    "import pandas as pd\n",
    "import seaborn as sns\n",
    "\n",
    "import scipy.integrate as integrate\n",
    "import scipy.special as sp\n",
    "import scipy.optimize as spop\n",
    "\n",
    "import emcee"
   ]
  },
  {
   "cell_type": "markdown",
   "metadata": {},
   "source": [
    "## Generative model\n",
    "\n",
    "### Bare model\n",
    "\n",
    "The model is represented by a 2D Gaussian, with random peak amplitude, width and peak position.\n",
    "\n",
    "We thus start by defining the 2D and 1D Gaussian function:"
   ]
  },
  {
   "cell_type": "code",
   "execution_count": 2,
   "metadata": {
    "collapsed": true
   },
   "outputs": [],
   "source": [
    "def gaussian_2d(x, y, center_x, center_y, amplitude, sigma_x, sigma_y):\n",
    "    return amplitude*np.exp(-(x-center_x)/(2*sigma_x**2))*np.exp(-(y-center_y)/(2*sigma_y**2))\n",
    "\n",
    "def gaussian_1d(z, center_z, sigma_z, amplitude):\n",
    "    return amplitude*np.exp(-(z-center_z)**2/(2*sigma_z**2))"
   ]
  },
  {
   "cell_type": "markdown",
   "metadata": {},
   "source": [
    "We next define the model:"
   ]
  },
  {
   "cell_type": "code",
   "execution_count": 3,
   "metadata": {
    "collapsed": true
   },
   "outputs": [],
   "source": [
    "def model(x, y, center_x, center_y, amplitude, sigma_x, sigma_y, background):\n",
    "    return gaussian_2d(x, y, center_x, center_y, amplitude, sigma_x, sigma_y) + background"
   ]
  },
  {
   "cell_type": "code",
   "execution_count": null,
   "metadata": {
    "collapsed": false
   },
   "outputs": [],
   "source": []
  },
  {
   "cell_type": "code",
   "execution_count": 4,
   "metadata": {
    "collapsed": true
   },
   "outputs": [],
   "source": [
    "x=np.linspace(1,50,50)\n",
    "y=np.linspace(1,50,50)\n",
    "x,y=np.meshgrid(x, y)"
   ]
  },
  {
   "cell_type": "code",
   "execution_count": 5,
   "metadata": {
    "collapsed": false
   },
   "outputs": [
    {
     "ename": "TypeError",
     "evalue": "model() missing 1 required positional argument: 'background'",
     "output_type": "error",
     "traceback": [
      "\u001b[0;31m---------------------------------------------------------------------------\u001b[0m",
      "\u001b[0;31mTypeError\u001b[0m                                 Traceback (most recent call last)",
      "\u001b[0;32m<ipython-input-5-47bea3180f6c>\u001b[0m in \u001b[0;36m<module>\u001b[0;34m()\u001b[0m\n\u001b[0;32m----> 1\u001b[0;31m \u001b[0mimage\u001b[0m\u001b[1;33m=\u001b[0m\u001b[0mmodel\u001b[0m\u001b[1;33m(\u001b[0m\u001b[0mx\u001b[0m\u001b[1;33m,\u001b[0m\u001b[0my\u001b[0m\u001b[1;33m,\u001b[0m\u001b[1;36m25\u001b[0m\u001b[1;33m,\u001b[0m\u001b[1;36m25\u001b[0m\u001b[1;33m,\u001b[0m\u001b[1;36m1\u001b[0m\u001b[1;33m,\u001b[0m\u001b[1;36m8\u001b[0m\u001b[1;33m,\u001b[0m\u001b[1;36m8\u001b[0m\u001b[1;33m)\u001b[0m\u001b[1;33m+\u001b[0m\u001b[0mbackground\u001b[0m\u001b[1;33m(\u001b[0m\u001b[1;36m50\u001b[0m\u001b[1;33m,\u001b[0m\u001b[1;36m0\u001b[0m\u001b[1;33m,\u001b[0m\u001b[1;36m1\u001b[0m\u001b[1;33m)\u001b[0m\u001b[1;33m\u001b[0m\u001b[0m\n\u001b[0m\u001b[1;32m      2\u001b[0m \u001b[0mplt\u001b[0m\u001b[1;33m.\u001b[0m\u001b[0mimshow\u001b[0m\u001b[1;33m(\u001b[0m\u001b[0mimage\u001b[0m\u001b[1;33m,\u001b[0m\u001b[0mcmap\u001b[0m\u001b[1;33m=\u001b[0m\u001b[1;34m\"jet\"\u001b[0m\u001b[1;33m,\u001b[0m \u001b[0minterpolation\u001b[0m\u001b[1;33m=\u001b[0m\u001b[1;34m'none'\u001b[0m\u001b[1;33m)\u001b[0m\u001b[1;33m\u001b[0m\u001b[0m\n\u001b[1;32m      3\u001b[0m \u001b[0mplt\u001b[0m\u001b[1;33m.\u001b[0m\u001b[0mimshow\u001b[0m\u001b[1;33m(\u001b[0m\u001b[0mfilters\u001b[0m\u001b[1;33m.\u001b[0m\u001b[0mgaussian_filter\u001b[0m\u001b[1;33m(\u001b[0m\u001b[0mimage\u001b[0m\u001b[1;33m,\u001b[0m\u001b[1;36m2\u001b[0m\u001b[1;33m)\u001b[0m\u001b[1;33m,\u001b[0m\u001b[0mcmap\u001b[0m\u001b[1;33m=\u001b[0m\u001b[1;34m\"jet\"\u001b[0m\u001b[1;33m,\u001b[0m \u001b[0minterpolation\u001b[0m\u001b[1;33m=\u001b[0m\u001b[1;34m'none'\u001b[0m\u001b[1;33m)\u001b[0m\u001b[1;33m\u001b[0m\u001b[0m\n",
      "\u001b[0;31mTypeError\u001b[0m: model() missing 1 required positional argument: 'background'"
     ]
    }
   ],
   "source": [
    "image=model(x,y,25,25,1,8,8)+background(50,0,1)\n",
    "plt.imshow(image,cmap=\"jet\", interpolation='none')\n",
    "plt.imshow(filters.gaussian_filter(image,2),cmap=\"jet\", interpolation='none')"
   ]
  },
  {
   "cell_type": "markdown",
   "metadata": {
    "collapsed": false
   },
   "source": [
    "### Uncertainties\n",
    "\n",
    "We consider three possible uncertainty sources:\n",
    "\n",
    "- a Gaussian statistical uncertainty in the model, $\\epsilon_{\\mathrm{i}}$;\n",
    "- a Poissonian uncertainty, given by shot noise in the CCD camera;\n",
    "- a Gaussian uncertainty with a prior that is proportionally higher if the pixels below it are brighter."
   ]
  },
  {
   "cell_type": "markdown",
   "metadata": {
    "collapsed": true
   },
   "source": [
    "## Likelihood function\n",
    "\n",
    "To construct the likelihood function we need to consider all the uncertainties. Thus, each data point is given by: \n",
    "\n",
    "$$y_{\\mathrm{i}} = z_{\\mathrm{i}} + e_{\\mathrm{i}} = m(x_{\\mathrm{i}}, \\theta) + \\epsilon_{\\mathrm{i}} + f_{\\mathrm{i}} + g_{\\mathrm{i}},$$\n",
    "\n",
    "where $m(x_{\\mathrm{i}}, \\theta)$ is the model data and $\\theta$ the set of parameters that go into the data.\n",
    "\n",
    "Following the methods of Gregory 4.8, we have the probability distribution for the proposition $Z_i$ that the model we considered gives for the $i$-th data point values in the range $z_{\\mathrm{i}}$ to $z_{\\mathrm{i}} + dz_{\\mathrm{i}}$:\n",
    "\n",
    "$$p(Z_{\\mathrm{i}}|M, \\theta, I) = f_{\\mathrm{Z}}(z_{\\mathrm{i}}) = \\frac{1}{\\sqrt{2 \\pi}\\sigma_{\\mathrm{mi}}} exp \\left( \\frac{- \\epsilon_i}{2 \\sigma_{\\mathrm{mi}}} \\right)$$.\n",
    "\n",
    "Note that for simplicity we will consider $\\epsilon_{\\mathrm{i}} = \\epsilon$ and $\\sigma_{\\mathrm{mi}} = \\sigma_{\\mathrm{m}}$, for all $i$.\n",
    "\n",
    "Next the shot noise component is given by:\n",
    "\n",
    "$$p(F_{\\mathrm{i}}|M, \\theta, I)  = e^{-\\mu_i} \\frac{\\mu_{\\mathrm{i}}^n}{n!}$$\n",
    "\n",
    "Finally, include the readout noise. For now, only consider it as a simple Gaussian (<font color='red'>TO DO</font>: include prior and change its form):\n",
    "\n",
    "$$p(G_{\\mathrm{i}}|M, \\theta, I) = \\frac{1}{\\sqrt{2 \\pi}\\sigma_{\\mathrm{gi}}} exp \\left( \\frac{- g_i}{2 \\sigma_{\\mathrm{gi}}} \\right)$$\n",
    "\n",
    "The likelihood for each pixel is then the convolution of the noise sources and the total likelihood is the product of all likelihoods for each pixel (so for log of the likelihood we perform a sum). For the first stages of the project we perform the convolution directly:\n",
    "\n",
    "NOTE: In this simple version of the model, the two Gaussian uncertainties convolve to a Gaussian with $sigma = sigma_{\\mathrm{m}} + sigma_{\\mathrm{g}}$"
   ]
  },
  {
   "cell_type": "code",
   "execution_count": null,
   "metadata": {
    "collapsed": true
   },
   "outputs": [],
   "source": [
    "def log_likelihood(model_data, sigma_m, sigma_g, mu):\n",
    "    '''\n",
    "    sigma_m : uncertainty in the model chosen\n",
    "    sigma_g : uncertainty from CCD camera readout noise\n",
    "    mu : average number of photons due to shor noise\n",
    "    '''\n",
    "    sigma = sigma_m + sigma_g\n",
    "    prob_gaussian = gaussian_1d(z, gaussian_2d(x, y, center_x, center_y, amplitude, sigma_x, sigma_y), sigma, 1) \n",
    "    prob_poisson\n",
    "    \n",
    "    #log_likelihood = np.sum(np.log(np.convolve(prob_gaussian, prob_poisson)))"
   ]
  }
 ],
 "metadata": {
  "anaconda-cloud": {},
  "kernelspec": {
   "display_name": "Python [conda root]",
   "language": "python",
   "name": "conda-root-py"
  },
  "language_info": {
   "codemirror_mode": {
    "name": "ipython",
    "version": 3
   },
   "file_extension": ".py",
   "mimetype": "text/x-python",
   "name": "python",
   "nbconvert_exporter": "python",
   "pygments_lexer": "ipython3",
   "version": "3.5.2"
  }
 },
 "nbformat": 4,
 "nbformat_minor": 0
}
