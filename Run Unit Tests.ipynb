{
 "cells": [
  {
   "cell_type": "markdown",
   "metadata": {},
   "source": [
    "## Run Unit Tests\n",
    "\n",
    "This notebook can be used to verify that the unit tests for the basic functions in params_MOT work. The 6 functions tested are from model_MOT.ipynb and model_MOTonly.ipynb: gaussian_1d, gaussian_2d, background, model, MOTmodel, detected. Before this can be run the package params_MOT must be installed from the command line using the command\n",
    "\n",
    "pip install .\n",
    "\n",
    "while being in the working directory which contains the setup.py file for the package (inside the folder params_MOT). After installing, simply run the cell below:"
   ]
  },
  {
   "cell_type": "code",
   "execution_count": 35,
   "metadata": {
    "collapsed": false,
    "scrolled": true
   },
   "outputs": [
    {
     "name": "stderr",
     "output_type": "stream",
     "text": [
      ".....E.\n",
      "======================================================================\n",
      "ERROR: test_load_data (__main__.BasicFunctionsTestCase)\n",
      "----------------------------------------------------------------------\n",
      "Traceback (most recent call last):\n",
      "  File \"G:\\Users\\ang\\Dropbox\\Documents\\GitHub\\params_MOT\\params_MOT\\tests\\test_params_MOT.py\", line 26, in test_load_data\n",
      "    self.assertTrue(pm.load_data('model_data.csv', delim=' '))\n",
      "  File \"C:\\Program Files\\Anaconda3\\lib\\unittest\\case.py\", line 675, in assertTrue\n",
      "    if not expr:\n",
      "ValueError: The truth value of an array with more than one element is ambiguous. Use a.any() or a.all()\n",
      "\n",
      "----------------------------------------------------------------------\n",
      "Ran 7 tests in 0.043s\n",
      "\n",
      "FAILED (errors=1)\n"
     ]
    },
    {
     "ename": "SystemExit",
     "evalue": "True",
     "output_type": "error",
     "traceback": [
      "An exception has occurred, use %tb to see the full traceback.\n",
      "\u001b[0;31mSystemExit\u001b[0m\u001b[0;31m:\u001b[0m True\n"
     ]
    }
   ],
   "source": [
    "import params_MOT as pm\n",
    "from unittest import TestCase\n",
    "import os\n",
    "\n",
    "# os.chdir('./params_MOT/tests/') # Change working directory to that containing tests_\n",
    "%run test_params_MOT.py"
   ]
  },
  {
   "cell_type": "code",
   "execution_count": 29,
   "metadata": {
    "collapsed": false
   },
   "outputs": [
    {
     "data": {
      "text/plain": [
       "'G:\\\\Users\\\\ang'"
      ]
     },
     "execution_count": 29,
     "metadata": {},
     "output_type": "execute_result"
    }
   ],
   "source": [
    "os.getcwd()"
   ]
  },
  {
   "cell_type": "code",
   "execution_count": 28,
   "metadata": {
    "collapsed": false
   },
   "outputs": [],
   "source": [
    "os.chdir('../..')"
   ]
  },
  {
   "cell_type": "code",
   "execution_count": 34,
   "metadata": {
    "collapsed": false
   },
   "outputs": [
    {
     "data": {
      "text/plain": [
       "'G:\\\\Users\\\\ang\\\\Dropbox\\\\Documents\\\\GitHub\\\\params_MOT\\\\params_MOT\\\\tests'"
      ]
     },
     "execution_count": 34,
     "metadata": {},
     "output_type": "execute_result"
    }
   ],
   "source": [
    "os.chdir('./tests/')\n",
    "os.getcwd()"
   ]
  },
  {
   "cell_type": "code",
   "execution_count": null,
   "metadata": {
    "collapsed": true
   },
   "outputs": [],
   "source": []
  }
 ],
 "metadata": {
  "kernelspec": {
   "display_name": "Python [default]",
   "language": "python",
   "name": "python3"
  },
  "language_info": {
   "codemirror_mode": {
    "name": "ipython",
    "version": 3
   },
   "file_extension": ".py",
   "mimetype": "text/x-python",
   "name": "python",
   "nbconvert_exporter": "python",
   "pygments_lexer": "ipython3",
   "version": "3.5.2"
  }
 },
 "nbformat": 4,
 "nbformat_minor": 0
}
